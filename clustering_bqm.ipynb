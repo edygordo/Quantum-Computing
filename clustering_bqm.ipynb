{
 "cells": [
  {
   "attachments": {},
   "cell_type": "markdown",
   "metadata": {},
   "source": [
    "Importing Libraries"
   ]
  },
  {
   "cell_type": "code",
   "execution_count": 4,
   "metadata": {},
   "outputs": [],
   "source": [
    "import cv2\n",
    "import numpy as np\n",
    "from sklearn.datasets import fetch_openml"
   ]
  },
  {
   "attachments": {},
   "cell_type": "markdown",
   "metadata": {},
   "source": [
    "Loading the MNIST Dataset"
   ]
  },
  {
   "cell_type": "code",
   "execution_count": 5,
   "metadata": {},
   "outputs": [
    {
     "data": {
      "text/plain": [
       "dict_keys(['data', 'target', 'frame', 'categories', 'feature_names', 'target_names', 'DESCR', 'details', 'url'])"
      ]
     },
     "execution_count": 5,
     "metadata": {},
     "output_type": "execute_result"
    }
   ],
   "source": [
    "mnist_digits = fetch_openml('mnist_784', version=1)\n",
    "mnist_digits.keys()"
   ]
  },
  {
   "cell_type": "code",
   "execution_count": 6,
   "metadata": {},
   "outputs": [],
   "source": [
    "x = mnist_digits[\"data\"]\n",
    "y = mnist_digits[\"target\"]"
   ]
  },
  {
   "cell_type": "code",
   "execution_count": 10,
   "metadata": {},
   "outputs": [
    {
     "data": {
      "text/plain": [
       "(70000, 784)"
      ]
     },
     "execution_count": 10,
     "metadata": {},
     "output_type": "execute_result"
    }
   ],
   "source": [
    "x.shape"
   ]
  },
  {
   "cell_type": "code",
   "execution_count": 16,
   "metadata": {},
   "outputs": [
    {
     "data": {
      "text/plain": [
       "((70000, 28, 28), (70000, 1))"
      ]
     },
     "execution_count": 16,
     "metadata": {},
     "output_type": "execute_result"
    }
   ],
   "source": [
    "x_train = x.to_numpy().reshape(-1,28,28)\n",
    "y_train = y.to_numpy().reshape(-1,1)\n",
    "\n",
    "x_train.shape, y_train.shape"
   ]
  },
  {
   "cell_type": "code",
   "execution_count": 20,
   "metadata": {},
   "outputs": [],
   "source": [
    "# Convert data to 3 channels\n",
    "\n",
    "x_train_rgb = np.stack((x_train,)*3,axis=-1)"
   ]
  },
  {
   "cell_type": "code",
   "execution_count": 41,
   "metadata": {},
   "outputs": [
    {
     "name": "stderr",
     "output_type": "stream",
     "text": [
      "Clipping input data to the valid range for imshow with RGB data ([0..1] for floats or [0..255] for integers).\n",
      "Clipping input data to the valid range for imshow with RGB data ([0..1] for floats or [0..255] for integers).\n"
     ]
    },
    {
     "name": "stdout",
     "output_type": "stream",
     "text": [
      "(50, 50, 3)\n"
     ]
    },
    {
     "data": {
      "text/plain": [
       "<matplotlib.image.AxesImage at 0x2202bbc7af0>"
      ]
     },
     "execution_count": 41,
     "metadata": {},
     "output_type": "execute_result"
    },
    {
     "data": {
      "image/png": "[encoded data removed]",
      "text/plain": [
       "<Figure size 432x288 with 1 Axes>"
      ]
     },
     "metadata": {
      "needs_background": "light"
     },
     "output_type": "display_data"
    }
   ],
   "source": [
    "import matplotlib.pyplot as plt\n",
    "import cv2\n",
    "\n",
    "plt.imshow(x_train_rgb[0])\n",
    "x_mod = cv2.resize(x_train_rgb[0],(50,50))\n",
    "print((x_mod.shape))\n",
    "plt.imshow(cv2.resize(x_train_rgb[0],(50,50)))"
   ]
  },
  {
   "cell_type": "code",
   "execution_count": 43,
   "metadata": {},
   "outputs": [
    {
     "data": {
      "text/plain": [
       "(70000, 28, 28, 3)"
      ]
     },
     "execution_count": 43,
     "metadata": {},
     "output_type": "execute_result"
    }
   ],
   "source": [
    "x_train_rgb.shape"
   ]
  },
  {
   "cell_type": "code",
   "execution_count": 44,
   "metadata": {},
   "outputs": [
    {
     "data": {
      "text/plain": [
       "(28, 28, 3)"
      ]
     },
     "execution_count": 44,
     "metadata": {},
     "output_type": "execute_result"
    }
   ],
   "source": [
    "x_train_rgb[0].shape"
   ]
  },
  {
   "cell_type": "code",
   "execution_count": 61,
   "metadata": {},
   "outputs": [
    {
     "data": {
      "text/plain": [
       "(500, 50, 50, 3)"
      ]
     },
     "execution_count": 61,
     "metadata": {},
     "output_type": "execute_result"
    }
   ],
   "source": [
    "IMG_SIZE = 50\n",
    "x_train_rgb_size = []\n",
    "no_of_images = 1\n",
    "for index, image in enumerate(x_train_rgb):\n",
    "    # x_train_rgb[index] = cv2.resize(image,(IMG_SIZE, IMG_SIZE))\n",
    "    # print(cv2.resize(image,(IMG_SIZE,IMG_SIZE)).shape)\n",
    "    resized_image = cv2.resize(image,(IMG_SIZE,IMG_SIZE))\n",
    "    x_train_rgb_size.append(resized_image)\n",
    "    if no_of_images == 500:\n",
    "        break\n",
    "    no_of_images = no_of_images+1\n",
    "    \n",
    "x_train_rgb_size = np.array(x_train_rgb_size)\n",
    "x_train_rgb_size.shape"
   ]
  },
  {
   "cell_type": "code",
   "execution_count": 62,
   "metadata": {},
   "outputs": [
    {
     "name": "stdout",
     "output_type": "stream",
     "text": [
      "Model: \"sequential_12\"\n",
      "_________________________________________________________________\n",
      " Layer (type)                Output Shape              Param #   \n",
      "=================================================================\n",
      " vgg16 (Functional)          (None, 512)               14714688  \n",
      "                                                                 \n",
      "=================================================================\n",
      "Total params: 14,714,688\n",
      "Trainable params: 0\n",
      "Non-trainable params: 14,714,688\n",
      "_________________________________________________________________\n"
     ]
    }
   ],
   "source": [
    "from tensorflow.keras.applications.vgg16 import VGG16\n",
    "from tensorflow.keras.models import Sequential\n",
    "from tensorflow.keras.layers import Dense\n",
    "\n",
    "model = Sequential()\n",
    "\n",
    "model.add(VGG16(include_top=False, pooling='avg', weights='imagenet', input_shape=(IMG_SIZE,IMG_SIZE,3)))\n",
    "model.layers[0].trainable = False\n",
    "model.summary()"
   ]
  },
  {
   "cell_type": "code",
   "execution_count": 64,
   "metadata": {},
   "outputs": [
    {
     "name": "stdout",
     "output_type": "stream",
     "text": [
      "16/16 [==============================] - 14s 910ms/step\n"
     ]
    }
   ],
   "source": [
    "feature_extraction = model.predict(x_train_rgb_size)"
   ]
  },
  {
   "cell_type": "code",
   "execution_count": 110,
   "metadata": {},
   "outputs": [
    {
     "data": {
      "text/plain": [
       "(500, 512)"
      ]
     },
     "execution_count": 110,
     "metadata": {},
     "output_type": "execute_result"
    }
   ],
   "source": [
    "feature_extraction.shape"
   ]
  },
  {
   "cell_type": "code",
   "execution_count": 119,
   "metadata": {},
   "outputs": [
    {
     "name": "stdout",
     "output_type": "stream",
     "text": [
      "1.0\n"
     ]
    }
   ],
   "source": [
    "def dist(A,B):\n",
    "    return np.sqrt( len(A)* (np.mean(np.square(np.subtract(A,B)))) ) # Euclidean Distance(L2 Norm)\n",
    "\n",
    "x = [1,2,4,4,6]\n",
    "y = [1,1,4,4,6]\n",
    "print(dist(x,y))"
   ]
  },
  {
   "cell_type": "code",
   "execution_count": 82,
   "metadata": {},
   "outputs": [],
   "source": [
    "def max_distance(feature_points):\n",
    "    maxDist = 0\n",
    "    for i in range(0,len(feature_points)):\n",
    "        for j in range(0,len(feature_points)):\n",
    "            if dist(feature_points[i], feature_points[j]) > maxDist:\n",
    "                maxDist = dist(feature_points[i], feature_points[j])\n",
    "    return maxDist"
   ]
  },
  {
   "cell_type": "code",
   "execution_count": 84,
   "metadata": {},
   "outputs": [],
   "source": [
    "def min_distance(feature_points):\n",
    "    minDist = 100000\n",
    "    for i in range(0,len(feature_points)):\n",
    "        for j in range(0,len(feature_points)):\n",
    "            if dist(feature_points[i], feature_points[j]) < minDist:\n",
    "                minDist = dist(feature_points[i], feature_points[j])\n",
    "    return minDist"
   ]
  },
  {
   "cell_type": "code",
   "execution_count": 85,
   "metadata": {},
   "outputs": [
    {
     "data": {
      "text/plain": [
       "(295.118170187808, 0.0)"
      ]
     },
     "execution_count": 85,
     "metadata": {},
     "output_type": "execute_result"
    }
   ],
   "source": [
    "max_distance(feature_extraction), min_distance(feature_extraction)"
   ]
  },
  {
   "cell_type": "code",
   "execution_count": 86,
   "metadata": {},
   "outputs": [],
   "source": [
    "def no_of_points(datapoint, feature_points, epsilon):\n",
    "    val = 0\n",
    "    for i in range(0, len(feature_points)):\n",
    "        if dist(datapoint,feature_points[i]) < epsilon:\n",
    "            val +=1\n",
    "    return val -1 # as datapoint is a member of feature_points set"
   ]
  },
  {
   "cell_type": "code",
   "execution_count": 123,
   "metadata": {},
   "outputs": [
    {
     "name": "stdout",
     "output_type": "stream",
     "text": [
      "8068\n"
     ]
    }
   ],
   "source": [
    "Total_points = 0\n",
    "for i in range(len(feature_extraction)):\n",
    "    Total_points += no_of_points(feature_extraction[i],feature_extraction,epsilon=80)\n",
    "print(Total_points)"
   ]
  },
  {
   "cell_type": "code",
   "execution_count": 126,
   "metadata": {},
   "outputs": [
    {
     "name": "stdout",
     "output_type": "stream",
     "text": [
      "0.9999999999999992\n"
     ]
    }
   ],
   "source": [
    "x=0\n",
    "for i in range(len(feature_extraction)):\n",
    "    x += no_of_points(feature_extraction[i],feature_extraction,80)/Total_points\n",
    "print(x)"
   ]
  },
  {
   "cell_type": "code",
   "execution_count": 116,
   "metadata": {},
   "outputs": [
    {
     "name": "stderr",
     "output_type": "stream",
     "text": [
      "c:\\Users\\2137621\\Anaconda3\\lib\\site-packages\\sklearn\\manifold\\_t_sne.py:780: FutureWarning: The default initialization in TSNE will change from 'random' to 'pca' in 1.2.\n",
      "  warnings.warn(\n",
      "c:\\Users\\2137621\\Anaconda3\\lib\\site-packages\\sklearn\\manifold\\_t_sne.py:790: FutureWarning: The default learning rate in TSNE will change from 200.0 to 'auto' in 1.2.\n",
      "  warnings.warn(\n"
     ]
    },
    {
     "name": "stdout",
     "output_type": "stream",
     "text": [
      "[t-SNE] Computing 91 nearest neighbors...\n",
      "[t-SNE] Indexed 500 samples in 0.001s...\n",
      "[t-SNE] Computed neighbors for 500 samples in 0.024s...\n",
      "[t-SNE] Computed conditional probabilities for sample 500 / 500\n",
      "[t-SNE] Mean sigma: 38.689573\n",
      "[t-SNE] KL divergence after 250 iterations with early exaggeration: 68.355583\n",
      "[t-SNE] KL divergence after 1000 iterations: 0.708756\n"
     ]
    },
    {
     "data": {
      "text/plain": [
       "<matplotlib.collections.PathCollection at 0x22035285040>"
      ]
     },
     "execution_count": 116,
     "metadata": {},
     "output_type": "execute_result"
    },
    {
     "data": {
      "image/png": "[encoded data removed]",
      "text/plain": [
       "<Figure size 432x288 with 1 Axes>"
      ]
     },
     "metadata": {
      "needs_background": "light"
     },
     "output_type": "display_data"
    }
   ],
   "source": [
    "# Visualizing the Feature points dataset\n",
    "from sklearn.manifold import TSNE\n",
    "\n",
    "tsne = TSNE(n_components=2, verbose=1, random_state=123)\n",
    "\n",
    "z = tsne.fit_transform(feature_extraction)\n",
    "\n",
    "import matplotlib.pyplot as plt\n",
    "\n",
    "sample_no = 16\n",
    "plt.scatter(x=z[:,0],y=z[:,1])\n",
    "plt.scatter(x=z[sample_no,0],y=z[sample_no,1])"
   ]
  },
  {
   "cell_type": "code",
   "execution_count": 1,
   "metadata": {},
   "outputs": [],
   "source": [
    "# # Set up the blob detector\n",
    "# detectorobj = cv2.SimpleBlobDetector_create()\n",
    "\n",
    "# # Detect blobs\n",
    "# keypoint_info = detectorobj.detect(sample_1)\n",
    "\n",
    "# # Highlight detected blobs\n",
    "# sample_1_processed = np.zeros((1,1))\n",
    "# blobs = cv2.drawKeypoints(sample_1,keypoint_info,np.array([]), (255,0,0), cv2.DRAW_MATCHES_FLAGS_DRAW_RICH_KEYPOINTS)\n",
    "\n",
    "# # Display blobs in the image\n",
    "# cv2.imshow(\"Displaying Blobs\", blobs)\n",
    "# cv2.waitKey(0)"
   ]
  },
  {
   "cell_type": "code",
   "execution_count": 125,
   "metadata": {},
   "outputs": [
    {
     "name": "stdout",
     "output_type": "stream",
     "text": [
      "0.00805651958353991\n"
     ]
    }
   ],
   "source": [
    "Lambda = 0\n",
    "epsilon = 80\n",
    "for i in range(len(feature_extraction)):\n",
    "    x = no_of_points(feature_extraction[i],feature_extraction,epsilon=epsilon)/Total_points\n",
    "    if x > Lambda:\n",
    "        Lambda = x\n",
    "print(Lambda)"
   ]
  },
  {
   "cell_type": "code",
   "execution_count": 127,
   "metadata": {},
   "outputs": [
    {
     "name": "stdout",
     "output_type": "stream",
     "text": [
      "[[0.00024789 0.00805652 0.00805652 ... 0.00805652 0.00805652 0.00805652]\n",
      " [0.         0.00173525 0.00805652 ... 0.00805652 0.00805652 0.00805652]\n",
      " [0.         0.         0.         ... 0.00805652 0.00805652 0.00805652]\n",
      " ...\n",
      " [0.         0.         0.         ... 0.         0.00805652 0.00805652]\n",
      " [0.         0.         0.         ... 0.         0.00210709 0.00805652]\n",
      " [0.         0.         0.         ... 0.         0.         0.00297471]]\n"
     ]
    }
   ],
   "source": [
    "# Formation of QUBO Matrix\n",
    "\n",
    "cardinality = len(feature_extraction)\n",
    "\n",
    "Q = np.zeros((cardinality,cardinality), dtype=float)\n",
    "epsilon = 80\n",
    "\n",
    "for i in range(cardinality):\n",
    "    for j in range(cardinality):\n",
    "        if i>j:\n",
    "            Q[i][j] = 0\n",
    "        elif(i == j):\n",
    "            Q[i][j] = no_of_points(datapoint=feature_extraction[i],feature_points=feature_extraction,epsilon=epsilon)/Total_points\n",
    "        else:\n",
    "            if(dist(feature_extraction[i],feature_extraction[j]) < epsilon):\n",
    "                Q[i][j] = 0\n",
    "            else:\n",
    "                Q[i][j] = Lambda\n",
    "\n",
    "print(Q)\n"
   ]
  },
  {
   "cell_type": "code",
   "execution_count": null,
   "metadata": {},
   "outputs": [],
   "source": []
  }
 ],
 "metadata": {
  "kernelspec": {
   "display_name": "base",
   "language": "python",
   "name": "python3"
  },
  "language_info": {
   "codemirror_mode": {
    "name": "ipython",
    "version": 3
   },
   "file_extension": ".py",
   "mimetype": "text/x-python",
   "name": "python",
   "nbconvert_exporter": "python",
   "pygments_lexer": "ipython3",
   "version": "3.9.12"
  },
  "orig_nbformat": 4,
  "vscode": {
   "interpreter": {
    "hash": "aa46e7c0d619f8ad6e27ae67331cea0628ad6890f95b99d12bfee74898710be5"
   }
  }
 },
 "nbformat": 4,
 "nbformat_minor": 2
}
